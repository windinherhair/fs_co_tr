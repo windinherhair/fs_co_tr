{
  "nbformat": 4,
  "nbformat_minor": 0,
  "metadata": {
    "colab": {
      "name": "FS_Train_CUDA9.0.ipynb",
      "version": "0.3.2",
      "provenance": [],
      "collapsed_sections": [],
      "include_colab_link": true
    },
    "kernelspec": {
      "name": "python3",
      "display_name": "Python 3"
    },
    "accelerator": "GPU"
  },
  "cells": [
    {
      "cell_type": "markdown",
      "metadata": {
        "id": "view-in-github",
        "colab_type": "text"
      },
      "source": [
        "<a href=\"https://colab.research.google.com/github/windinherhair/fs_co_tr/blob/master/FS_Train_CUDA9_0.ipynb\" target=\"_parent\"><img src=\"https://colab.research.google.com/assets/colab-badge.svg\" alt=\"Open In Colab\"/></a>"
      ]
    },
    {
      "metadata": {
        "id": "atey8FJOUkGQ",
        "colab_type": "text"
      },
      "cell_type": "markdown",
      "source": [
        "# deepfakes/faceswap (Original_HighRes Train用)"
      ]
    },
    {
      "metadata": {
        "id": "oL4AoCZC2qXB",
        "colab_type": "text"
      },
      "cell_type": "markdown",
      "source": [
        "## **（重要）colabの12時間&90分ルール対策**\n",
        "\n",
        "1.新しいインスタンスを起動してから12時間経つと全てリセットされる。（GoogleDriveに学習したmodelを退避させる）\n",
        "\n",
        "2.90分アイドル状態が続くとノートの接続が外れるため、** Chromeのアドオンを使って60分置きにページをリロードする。（[Auto Refresh](https://chrome.google.com/webstore/detail/auto-refresh/ifooldnmmcmlbdennkpdnlnbgbmfalko))**"
      ]
    },
    {
      "metadata": {
        "id": "i_RKRmvFAVvj",
        "colab_type": "text"
      },
      "cell_type": "markdown",
      "source": [
        "\n",
        "\n",
        "### 事前準備\n",
        "\n",
        "**1.[cuDNN](https://developer.nvidia.com/cudnn) 7.41 for CUDA 9.0 (cuDNN Library for Linux)をダウンロードし、GoogleDriveにアップしておく。アーカイブにあります。要登録。バージョン間違える人多いので注意。**※windowsPCの場合拡張子がおかしくなるかも。拡張子をtgzに直してください。\n",
        "\n",
        "2.自分のPCでExtractまで済ませておく。（ローカルでやった方が効率がいいため）\n",
        "\n",
        "3.faceswapという名前のフォルダを作り、そこにalignA, alignBフォルダを移動する。\n",
        "\n",
        "(3.5.convertもcolabでやりたい方はalignments.jsonファイルを含むimgAフォルダもfaceswapフォルダに配置)←OFSは入ってるけどFSはインスコしてない人向け。\n",
        "\n",
        "4.faceswapフォルダをzipで圧縮し、faceswap.zipファイルをGoogleDriveにアップしておく\n",
        "\n",
        "5.事前学習modelがある場合は、modelフォルダをGoogleDriveにアップしておく"
      ]
    },
    {
      "metadata": {
        "id": "elrU6XY1laHU",
        "colab_type": "text"
      },
      "cell_type": "markdown",
      "source": [
        "### **（重要）ランタイムのタイプをGPUに変更する** \n",
        "\n",
        "---\n",
        "\n"
      ]
    },
    {
      "metadata": {
        "id": "z_4TqAnik-RP",
        "colab_type": "code",
        "colab": {}
      },
      "cell_type": "code",
      "source": [
        "# インスタンスが作られてからの日数表示。0.5days=12時間まで使える。\n",
        "\n",
        "!cat /proc/uptime | awk '{print $1 /60 /60 /24 \"days (\" $1 \"sec)\"}'\n"
      ],
      "execution_count": 0,
      "outputs": []
    },
    {
      "metadata": {
        "id": "OdKuGEmG_mDC",
        "colab_type": "text"
      },
      "cell_type": "markdown",
      "source": [
        "準備が整ったら、\n",
        "\n",
        "**ランタイム→すべてのセルを実行**\n",
        "\n",
        "\n",
        "---\n",
        "\n",
        "\n",
        "\n"
      ]
    },
    {
      "metadata": {
        "id": "irz42YUGbNkr",
        "colab_type": "text"
      },
      "cell_type": "markdown",
      "source": [
        "**Google Driveをマウント**（※ここだけ要入力）\n",
        "\n",
        "\n",
        "  URLをクリックし、そのまま進めたら出てくるコードをコピー、枠にペーストしEnter\n",
        "\n",
        "\n"
      ]
    },
    {
      "metadata": {
        "id": "ywrYDUWSaT0I",
        "colab_type": "code",
        "colab": {}
      },
      "cell_type": "code",
      "source": [
        "from google.colab import drive\n",
        "drive.mount('/content/drive')"
      ],
      "execution_count": 0,
      "outputs": []
    },
    {
      "metadata": {
        "id": "S_uAndHBbO1z",
        "colab_type": "text"
      },
      "cell_type": "markdown",
      "source": [
        "**元からインストールされているCUDA9.2を削除**"
      ]
    },
    {
      "metadata": {
        "id": "bNnSqiF0Y2Qq",
        "colab_type": "code",
        "colab": {}
      },
      "cell_type": "code",
      "source": [
        "!rm -rf /usr/local/cuda*\n",
        "!apt-get purge nvidia*\n",
        "!apt-get autoremove\n",
        "!apt-get autoclean"
      ],
      "execution_count": 0,
      "outputs": []
    },
    {
      "metadata": {
        "id": "eCxAAbw7bRBG",
        "colab_type": "text"
      },
      "cell_type": "markdown",
      "source": [
        "**CUDA9.0をインストール**"
      ]
    },
    {
      "metadata": {
        "id": "__UV8d_9Zdma",
        "colab_type": "code",
        "colab": {}
      },
      "cell_type": "code",
      "source": [
        "!wget https://developer.nvidia.com/compute/cuda/9.0/Prod/local_installers/cuda-repo-ubuntu1604-9-0-local_9.0.176-1_amd64-deb -O cuda-repo-ubuntu1604-9-0-local_9.0.176-1_amd64.deb\n",
        "!dpkg -i cuda-repo-ubuntu1604-9-0-local_9.0.176-1_amd64.deb\n",
        "!apt-key add /var/cuda-repo-9-0-local/7fa2af80.pub\n",
        "!apt-get update\n",
        "!apt-get -o Dpkg::Options::=\"--force-overwrite\" install cuda-9-0 cuda-drivers"
      ],
      "execution_count": 0,
      "outputs": []
    },
    {
      "metadata": {
        "id": "09nNIjOGd4eB",
        "colab_type": "text"
      },
      "cell_type": "markdown",
      "source": [
        "Driveからcudnnをコピペして展開"
      ]
    },
    {
      "metadata": {
        "id": "Q7gUwhUJkN16",
        "colab_type": "code",
        "colab": {}
      },
      "cell_type": "code",
      "source": [
        "cp drive/'My Drive'/cudnn-9.0-linux-x64-v7.4.1.5.tgz ./"
      ],
      "execution_count": 0,
      "outputs": []
    },
    {
      "metadata": {
        "id": "wbBQ_512km1Z",
        "colab_type": "code",
        "colab": {}
      },
      "cell_type": "code",
      "source": [
        "!tar -xf cudnn-9.0-linux-x64-v7.4.1.5.tgz"
      ],
      "execution_count": 0,
      "outputs": []
    },
    {
      "metadata": {
        "id": "1peoiHcamfUB",
        "colab_type": "code",
        "colab": {}
      },
      "cell_type": "code",
      "source": [
        "cp -R cuda/include/* /usr/local/cuda-9.0/include\n"
      ],
      "execution_count": 0,
      "outputs": []
    },
    {
      "metadata": {
        "id": "dD6fOx7dnAzy",
        "colab_type": "code",
        "colab": {}
      },
      "cell_type": "code",
      "source": [
        "cp -R cuda/lib64/* /usr/local/cuda-9.0/lib64"
      ],
      "execution_count": 0,
      "outputs": []
    },
    {
      "metadata": {
        "id": "Go9h7h49eOcL",
        "colab_type": "text"
      },
      "cell_type": "markdown",
      "source": [
        "CUDAのパスを通す。"
      ]
    },
    {
      "metadata": {
        "id": "amkW2DIUwh8d",
        "colab_type": "code",
        "colab": {}
      },
      "cell_type": "code",
      "source": [
        "!echo 'export PATH=/usr/local/cuda-9.0/bin${PATH:+:${PATH}}' >> ~/.bashrc\n",
        "!echo 'export LD_LIBRARY_PATH=/usr/local/cuda-9.0/lib64${LD_LIBRARY_PATH:+:${LD_LIBRARY_PATH}}' >> ~/.bashrc"
      ],
      "execution_count": 0,
      "outputs": []
    },
    {
      "metadata": {
        "id": "5b-WPaZfxFZ8",
        "colab_type": "code",
        "colab": {}
      },
      "cell_type": "code",
      "source": [
        "!source ~/.bashrc\n",
        "!ldconfig"
      ],
      "execution_count": 0,
      "outputs": []
    },
    {
      "metadata": {
        "id": "dAlacPYnnQZ_",
        "colab_type": "text"
      },
      "cell_type": "markdown",
      "source": [
        "dlibのインストール"
      ]
    },
    {
      "metadata": {
        "id": "iJRPVoOfpK0t",
        "colab_type": "code",
        "colab": {}
      },
      "cell_type": "code",
      "source": [
        "!apt update\n",
        "!apt install -y cmake\n",
        "#!git clone https://github.com/davisking/dlib.git\n",
        "#!python setup.py install --yes USE_AVX_INSTRUCTIONS --yes DLIB_USE_CUDA\n",
        "!apt install -y --no-install-recommends cmake && pip install dlib"
      ],
      "execution_count": 0,
      "outputs": []
    },
    {
      "metadata": {
        "id": "aD62zV2LENZj",
        "colab_type": "text"
      },
      "cell_type": "markdown",
      "source": [
        "TFをダウングレード"
      ]
    },
    {
      "metadata": {
        "id": "SjmKj2GLo_NB",
        "colab_type": "code",
        "colab": {}
      },
      "cell_type": "code",
      "source": [
        "!pip install tensorflow-gpu==1.11.0"
      ],
      "execution_count": 0,
      "outputs": []
    },
    {
      "metadata": {
        "id": "6aYT4a5oEYxp",
        "colab_type": "text"
      },
      "cell_type": "markdown",
      "source": [
        "Githubのdeepfakes/faceswapをクローン"
      ]
    },
    {
      "metadata": {
        "id": "qnurbB4znrUD",
        "colab_type": "code",
        "colab": {}
      },
      "cell_type": "code",
      "source": [
        "!git clone https://github.com/deepfakes/faceswap.git"
      ],
      "execution_count": 0,
      "outputs": []
    },
    {
      "metadata": {
        "id": "z6bIMt1lE_D8",
        "colab_type": "text"
      },
      "cell_type": "markdown",
      "source": [
        "素材をドライブからコピー"
      ]
    },
    {
      "metadata": {
        "id": "cM3F3FJstxlk",
        "colab_type": "code",
        "colab": {}
      },
      "cell_type": "code",
      "source": [
        "cp drive/'My Drive'/faceswap.zip ./"
      ],
      "execution_count": 0,
      "outputs": []
    },
    {
      "metadata": {
        "id": "CNxhbg7AE3yp",
        "colab_type": "text"
      },
      "cell_type": "markdown",
      "source": [
        "素材を解凍"
      ]
    },
    {
      "metadata": {
        "id": "b8KdJBxZFBv8",
        "colab_type": "code",
        "colab": {}
      },
      "cell_type": "code",
      "source": [
        "!unzip faceswap.zip"
      ],
      "execution_count": 0,
      "outputs": []
    },
    {
      "metadata": {
        "id": "DOGrdJO-EqpF",
        "colab_type": "text"
      },
      "cell_type": "markdown",
      "source": [
        "faceswapディレクトリに移動"
      ]
    },
    {
      "metadata": {
        "id": "hyrlx-B6n_Vg",
        "colab_type": "code",
        "colab": {}
      },
      "cell_type": "code",
      "source": [
        "cd faceswap"
      ],
      "execution_count": 0,
      "outputs": []
    },
    {
      "metadata": {
        "id": "UYk46P3AR0qE",
        "colab_type": "text"
      },
      "cell_type": "markdown",
      "source": [
        "残りの必要なものをインストール"
      ]
    },
    {
      "metadata": {
        "id": "qb5-vQJIoGg5",
        "colab_type": "code",
        "colab": {}
      },
      "cell_type": "code",
      "source": [
        "!pip install -r requirements.txt*"
      ],
      "execution_count": 0,
      "outputs": []
    },
    {
      "metadata": {
        "id": "o4lRGDIW0vWS",
        "colab_type": "text"
      },
      "cell_type": "markdown",
      "source": [
        "\n",
        "\n",
        "---\n",
        "\n",
        "\n",
        "\n",
        "\n",
        ">  ここでやっとFaceswap環境が整う。\n",
        "\n",
        "> extractやconvertもcolab上でやりたい人は、\n",
        "\n",
        "\n",
        "\n",
        "> ```\n",
        "!python faceswap.py -h\n",
        "```\n",
        "\n",
        "\n",
        "> でコマンドを見れるよ。\n",
        "\n",
        "\n",
        "---\n",
        "\n",
        "\n",
        "\n",
        "\n",
        "\n",
        "\n",
        "\n"
      ]
    },
    {
      "metadata": {
        "id": "KiNYHyr2-OT4",
        "colab_type": "code",
        "colab": {}
      },
      "cell_type": "code",
      "source": [
        "#!python faceswap.py train -h"
      ],
      "execution_count": 0,
      "outputs": []
    },
    {
      "metadata": {
        "id": "a0Tt8ViwyfbI",
        "colab_type": "code",
        "colab": {}
      },
      "cell_type": "code",
      "source": [
        "# インスタンスが作られてからの日数表示。0.5days=12時間まで使える。\n",
        "\n",
        "!cat /proc/uptime | awk '{print $1 /60 /60 /24 \"days (\" $1 \"sec)\"}'\n"
      ],
      "execution_count": 0,
      "outputs": []
    },
    {
      "metadata": {
        "id": "RpEV2peX3M-b",
        "colab_type": "text"
      },
      "cell_type": "markdown",
      "source": [
        "Train(バッチ32で100回ごとに保存)※設定はお好みで"
      ]
    },
    {
      "metadata": {
        "id": "DD4MqG0aC4Y8",
        "colab_type": "code",
        "colab": {}
      },
      "cell_type": "code",
      "source": [
        "#!python faceswap.py train -A alignB/ -B alignB/ -m /content/drive/'My Drive'/model/ -s 100 -t OriginalHighRes -bs 32"
      ],
      "execution_count": 0,
      "outputs": []
    },
    {
      "metadata": {
        "id": "DAqwdO-m8rDe",
        "colab_type": "code",
        "colab": {}
      },
      "cell_type": "code",
      "source": [
        "!python faceswap.py train -A alignA/ -B alignB/ -m /content/drive/'My Drive'/model/ -s 100 -t OriginalHighRes -bs 32"
      ],
      "execution_count": 0,
      "outputs": []
    },
    {
      "metadata": {
        "id": "EdoSv77zVz7R",
        "colab_type": "text"
      },
      "cell_type": "markdown",
      "source": [
        "あとはドライブのmodelフォルダをダウンロードして終わりです。（ローカルでconvertした方が効率がいいため。）\n",
        "# お疲れ様でした~"
      ]
    },
    {
      "metadata": {
        "id": "d1SjdwtIjWlb",
        "colab_type": "text"
      },
      "cell_type": "markdown",
      "source": [
        "※ローカルにFS環境がない方で、convertもcolabで済ませたい方向け。\n",
        "\n",
        "コメントアウト（#）を外して使ってください。\n"
      ]
    },
    {
      "metadata": {
        "id": "RpbIQqIbghXU",
        "colab_type": "code",
        "colab": {}
      },
      "cell_type": "code",
      "source": [
        "#python faceswap.py convert -i imgA/ -o /merge -al /content/faceswap/imgA/alignments.json -m /content/drive/'My Drive'/model/ -a alignA/ -t OriginalHighRes -c Masked -e 20 -b 30 -M facehull -mh"
      ],
      "execution_count": 0,
      "outputs": []
    },
    {
      "metadata": {
        "id": "O1xqy7y0jkGk",
        "colab_type": "code",
        "colab": {}
      },
      "cell_type": "code",
      "source": [
        "#オプションはお好みで\n",
        "#python faceswap.py convert -h"
      ],
      "execution_count": 0,
      "outputs": []
    }
  ]
}