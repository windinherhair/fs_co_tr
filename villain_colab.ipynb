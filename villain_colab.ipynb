{
  "nbformat": 4,
  "nbformat_minor": 0,
  "metadata": {
    "colab": {
      "name": "FS_new.ipynb",
      "version": "0.3.2",
      "provenance": [],
      "collapsed_sections": [],
      "include_colab_link": true
    },
    "kernelspec": {
      "name": "python3",
      "display_name": "Python 3"
    },
    "accelerator": "GPU"
  },
  "cells": [
    {
      "cell_type": "markdown",
      "metadata": {
        "id": "view-in-github",
        "colab_type": "text"
      },
      "source": [
        "<a href=\"https://colab.research.google.com/github/windinherhair/fs_co_tr/blob/master/villain_colab.ipynb\" target=\"_parent\"><img src=\"https://colab.research.google.com/assets/colab-badge.svg\" alt=\"Open In Colab\"/></a>"
      ]
    },
    {
      "metadata": {
        "id": "atey8FJOUkGQ",
        "colab_type": "text"
      },
      "cell_type": "markdown",
      "source": [
        "# deepfakes/faceswap (villain_256モデル)"
      ]
    },
    {
      "metadata": {
        "id": "oL4AoCZC2qXB",
        "colab_type": "text"
      },
      "cell_type": "markdown",
      "source": [
        "## **（重要）colabの12時間&90分ルール対策**\n",
        "\n",
        "1.新しいインスタンスを起動してから12時間経つと全てリセットされる。（GoogleDriveに学習したmodelや抽出した顔を退避させます）\n",
        "\n",
        "2.90分アイドル状態が続くとノートの接続が外れるため、** Chromeのアドオンを使って60分置きにページをリロードする。（[Auto Refresh](https://chrome.google.com/webstore/detail/auto-refresh/ifooldnmmcmlbdennkpdnlnbgbmfalko)）**\n",
        "\n",
        "放置する場合は\n",
        "1、Auto Refreshをオン\n",
        "2、手動でノートを保存\n",
        "3、手動で更新。(保存うんぬんのポップでたら、→はい)\n",
        "4、colabのタブを開いた状態で放置\n",
        "\n",
        "がよさそうです。"
      ]
    },
    {
      "metadata": {
        "id": "i_RKRmvFAVvj",
        "colab_type": "text"
      },
      "cell_type": "markdown",
      "source": [
        "\n",
        "\n",
        "### 事前準備\n",
        "1.基本的にextractとconvertはローカルでやって、DRIVEで同期するのがおすすめです。\n",
        "\n",
        "\n",
        "---\n",
        "\n",
        "\n",
        "以下、最初からやる場合\n",
        "\n",
        "2.体側の人の2分くらいの動画（videoA.mp4）、洗練されたBの顔セット（alignB）フォルダを用意する。（なければなるべく同じ色調、角度の顔側の人の動画10分くらい（videoB.mp4）を用意する。）※()内の名前にリネームしてください。\n",
        "\n",
        "3.Google DriveにvideoA.mp4、alignBフォルダ、(なければvideoB.mp4）をアップロード\n",
        "\n",
        "\n",
        "4.(推奨)学習済みmodelがある場合は、modelフォルダをGoogleDriveにアップロード\n",
        "\n",
        "### その他\n",
        "コメントアウト（#）をコードの前につけるとコードを呼び飛ばします。先に自分の条件に合わせてつけたり外したりしてから実行してください。\n",
        "また、二回目からはDriveにalign(img)ができてるので、ffmpegとextractに(#)つけて、trainからやって下さい。\n"
      ]
    },
    {
      "metadata": {
        "id": "elrU6XY1laHU",
        "colab_type": "text"
      },
      "cell_type": "markdown",
      "source": [
        "### **（設定）ランタイムのタイプをGPUに変更する** \n",
        "\n",
        "---\n",
        "\n"
      ]
    },
    {
      "metadata": {
        "id": "OdKuGEmG_mDC",
        "colab_type": "text"
      },
      "cell_type": "markdown",
      "source": [
        "準備が整ったら、\n",
        "\n",
        "**ランタイム→すべてのセルを実行**\n",
        "\n",
        "\n",
        "---\n",
        "\n",
        "\n",
        "\n"
      ]
    },
    {
      "metadata": {
        "id": "z_4TqAnik-RP",
        "colab_type": "code",
        "colab": {}
      },
      "cell_type": "code",
      "source": [
        "!cat /proc/uptime | awk '{print $1 /60 /60 /24 \"days (\" $1 \"sec)\"}'\n",
        "# インスタンスが作られてからの日数表示。0.5days=12時間まで使える。"
      ],
      "execution_count": 0,
      "outputs": []
    },
    {
      "metadata": {
        "id": "irz42YUGbNkr",
        "colab_type": "text"
      },
      "cell_type": "markdown",
      "source": [
        "**Google Driveをマウント**（※ここだけ要入力）\n",
        "\n",
        "\n",
        "###  URLをクリックし、そのまま進めたら出てくるコードをコピー、枠にペーストしEnter\n",
        "\n",
        "\n"
      ]
    },
    {
      "metadata": {
        "id": "ywrYDUWSaT0I",
        "colab_type": "code",
        "colab": {}
      },
      "cell_type": "code",
      "source": [
        "from google.colab import drive\n",
        "drive.mount('/content/drive')"
      ],
      "execution_count": 0,
      "outputs": []
    },
    {
      "metadata": {
        "id": "6aYT4a5oEYxp",
        "colab_type": "text"
      },
      "cell_type": "markdown",
      "source": [
        "Githubのdeepfakes/faceswapのtrain-refactorブランチをクローン"
      ]
    },
    {
      "metadata": {
        "id": "qnurbB4znrUD",
        "colab_type": "code",
        "colab": {}
      },
      "cell_type": "code",
      "source": [
        "!git clone https://github.com/deepfakes/faceswap.git"
      ],
      "execution_count": 0,
      "outputs": []
    },
    {
      "metadata": {
        "id": "u4zD0JPMmLh3",
        "colab_type": "code",
        "colab": {}
      },
      "cell_type": "code",
      "source": [
        "!cp -r /content/drive/'My Drive'/faceswap /content"
      ],
      "execution_count": 0,
      "outputs": []
    },
    {
      "metadata": {
        "id": "DOGrdJO-EqpF",
        "colab_type": "text"
      },
      "cell_type": "markdown",
      "source": [
        "faceswapディレクトリに移動"
      ]
    },
    {
      "metadata": {
        "id": "hyrlx-B6n_Vg",
        "colab_type": "code",
        "colab": {}
      },
      "cell_type": "code",
      "source": [
        "cd faceswap"
      ],
      "execution_count": 0,
      "outputs": []
    },
    {
      "metadata": {
        "id": "UYk46P3AR0qE",
        "colab_type": "text"
      },
      "cell_type": "markdown",
      "source": [
        "残りの必要なものをインストール"
      ]
    },
    {
      "metadata": {
        "id": "qb5-vQJIoGg5",
        "colab_type": "code",
        "colab": {}
      },
      "cell_type": "code",
      "source": [
        "!pip install -r requirements.txt*"
      ],
      "execution_count": 0,
      "outputs": []
    },
    {
      "metadata": {
        "id": "a0Tt8ViwyfbI",
        "colab_type": "code",
        "colab": {}
      },
      "cell_type": "code",
      "source": [
        "!cat /proc/uptime | awk '{print $1 /60 /60 /24 \"days (\" $1 \"sec)\"}'\n",
        "# インスタンスが作られてからの日数表示。0.5days=12時間まで使える。"
      ],
      "execution_count": 0,
      "outputs": []
    },
    {
      "metadata": {
        "id": "IAWpqArVA0sd",
        "colab_type": "text"
      },
      "cell_type": "markdown",
      "source": [
        "## **顔セットをZIPから解凍**\n",
        "#注意）一番最初にここをセットしてから実行する"
      ]
    },
    {
      "metadata": {
        "id": "AX01sYlcBPYv",
        "colab_type": "code",
        "colab": {}
      },
      "cell_type": "code",
      "source": [
        "!unzip /content/drive/'My Drive'/aligned_neru.zip"
      ],
      "execution_count": 0,
      "outputs": []
    },
    {
      "metadata": {
        "id": "H5IqUISSjogH",
        "colab_type": "code",
        "colab": {}
      },
      "cell_type": "code",
      "source": [
        "!unzip /content/drive/'My Drive'/faceA_nano.zip"
      ],
      "execution_count": 0,
      "outputs": []
    },
    {
      "metadata": {
        "id": "JTTKB0maOuYP",
        "colab_type": "code",
        "colab": {}
      },
      "cell_type": "code",
      "source": [
        "#!rm -r faceA"
      ],
      "execution_count": 0,
      "outputs": []
    },
    {
      "metadata": {
        "id": "IGP30JO1EAts",
        "colab_type": "code",
        "colab": {}
      },
      "cell_type": "code",
      "source": [
        "#!rm -r aligned"
      ],
      "execution_count": 0,
      "outputs": []
    },
    {
      "metadata": {
        "id": "Bw2Y6lF7BFyR",
        "colab_type": "code",
        "colab": {}
      },
      "cell_type": "code",
      "source": [
        "#ls /content/drive/'My Drive'/"
      ],
      "execution_count": 0,
      "outputs": []
    },
    {
      "metadata": {
        "id": "RpEV2peX3M-b",
        "colab_type": "text"
      },
      "cell_type": "markdown",
      "source": [
        "\n",
        "\n",
        "---\n",
        "\n",
        "\n",
        "## (選択)**Train**(バッチ32で100回ごとに保存)※設定はお好みで\n",
        "\n",
        "プレビューが見れないので6時間くらいを目安にやってみてください。※事前学習済みmodelがある前提です。\n",
        "\n",
        "コメントアウト(#)外して使ってください"
      ]
    },
    {
      "metadata": {
        "id": "yDlwq37yPaRa",
        "colab_type": "code",
        "colab": {}
      },
      "cell_type": "code",
      "source": [
        "!python faceswap.py train -A /content/faceswap/faceA -B /content/faceswap/aligned -m /content/drive/'My Drive'/model_256/ -s 150 -t villain -bs 16 -wl"
      ],
      "execution_count": 0,
      "outputs": []
    },
    {
      "metadata": {
        "id": "98EA0_C4zWEw",
        "colab_type": "code",
        "colab": {}
      },
      "cell_type": "code",
      "source": [
        "#!python faceswap.py train -A /content/faceswap/faceA -B /content/faceswap/aligned -m /content/drive/'My Drive'/model_256/ -s 150 -t villain -bs 8 -w -wl"
      ],
      "execution_count": 0,
      "outputs": []
    },
    {
      "metadata": {
        "id": "AtqXHhH5XKan",
        "colab_type": "code",
        "colab": {}
      },
      "cell_type": "code",
      "source": [
        "!cp config/train.ini /content/drive/'My Drive'/faceswap/config/"
      ],
      "execution_count": 0,
      "outputs": []
    },
    {
      "metadata": {
        "id": "Ra_BYtuEl4nb",
        "colab_type": "code",
        "colab": {}
      },
      "cell_type": "code",
      "source": [
        "#ls /content/drive/'My Drive'/model_256"
      ],
      "execution_count": 0,
      "outputs": []
    },
    {
      "metadata": {
        "id": "pLz85_Pgjol0",
        "colab_type": "code",
        "cellView": "both",
        "colab": {}
      },
      "cell_type": "code",
      "source": [
        "#!python faceswap.py train -A /content/faceswap/alignedHS -B /content/faceswap/alignedHS -m /content/drive/'My Drive'/model_224/ -s 2000 -t OriginalHighRes -bs 32 "
      ],
      "execution_count": 0,
      "outputs": []
    },
    {
      "metadata": {
        "id": "UoWEELA3SEEy",
        "colab_type": "code",
        "colab": {}
      },
      "cell_type": "code",
      "source": [
        "#villain\n",
        "#!python faceswap.py train -A /content/faceswap/faceA -B /content/faceswap/aligned -m /content/drive/'My Drive'/model_vill/ -s 100 -t original-villain -bs 16 "
      ],
      "execution_count": 0,
      "outputs": []
    },
    {
      "metadata": {
        "id": "ZRcaUkEKhYxk",
        "colab_type": "code",
        "colab": {}
      },
      "cell_type": "code",
      "source": [
        "#オプションはお好みで\n",
        "#!python faceswap.py train -h"
      ],
      "execution_count": 0,
      "outputs": []
    },
    {
      "metadata": {
        "id": "W0YR4XNcPASd",
        "colab_type": "text"
      },
      "cell_type": "markdown",
      "source": [
        "#学習が終わったらモデルをダウンロード"
      ]
    },
    {
      "metadata": {
        "id": "d1SjdwtIjWlb",
        "colab_type": "text"
      },
      "cell_type": "markdown",
      "source": [
        "\n",
        "\n",
        "---\n",
        "\n",
        "\n",
        "**Convert**\n",
        "\n"
      ]
    },
    {
      "metadata": {
        "id": "RpbIQqIbghXU",
        "colab_type": "code",
        "colab": {}
      },
      "cell_type": "code",
      "source": [
        "#!python faceswap.py convert -i /content/drive/'My Drive'/imgA/ -o /content/drive/'My Drive'/mergeAz -al /content/drive/'My Drive'/imgA/alignments.json -m /content/drive/'My Drive'/model/ -a /content/drive/'My Drive'/alignA/ -t villain -c Masked -b 30 -M facehull"
      ],
      "execution_count": 0,
      "outputs": []
    },
    {
      "metadata": {
        "id": "O1xqy7y0jkGk",
        "colab_type": "code",
        "colab": {}
      },
      "cell_type": "code",
      "source": [
        "#オプションはお好みで\n",
        "#!python faceswap.py convert -h"
      ],
      "execution_count": 0,
      "outputs": []
    },
    {
      "metadata": {
        "id": "7XyGpDW5l7xA",
        "colab_type": "text"
      },
      "cell_type": "markdown",
      "source": [
        "\n",
        "\n",
        "---\n",
        "\n",
        "ffmpegで画像から動画（merged_videoA.mp4）に変換"
      ]
    },
    {
      "metadata": {
        "id": "-ooOoEHjhEbp",
        "colab_type": "code",
        "colab": {}
      },
      "cell_type": "code",
      "source": [
        "#!ffmpeg -framerate 29.97 -i /content/drive/'My Drive'/mergeA/imgA%06d.png -vcodec libx264 -pix_fmt yuv420p -r 29.97 /content/drive/'My Drive'/merged_videoA1.mp4"
      ],
      "execution_count": 0,
      "outputs": []
    },
    {
      "metadata": {
        "id": "OMS8bwsYaEBc",
        "colab_type": "code",
        "colab": {}
      },
      "cell_type": "code",
      "source": [
        "#ls /content/drive/'My Drive'/mergeA/"
      ],
      "execution_count": 0,
      "outputs": []
    },
    {
      "metadata": {
        "id": "9IOaP714bR8C",
        "colab_type": "code",
        "colab": {}
      },
      "cell_type": "code",
      "source": [
        "#cp -u /content/drive/'My Drive'/imgA/*.png /content/drive/'My Drive'/mergeA/"
      ],
      "execution_count": 0,
      "outputs": []
    },
    {
      "metadata": {
        "id": "LtLb-5bAKfbg",
        "colab_type": "code",
        "colab": {}
      },
      "cell_type": "code",
      "source": [
        ""
      ],
      "execution_count": 0,
      "outputs": []
    },
    {
      "metadata": {
        "id": "SEwXZD88k2hu",
        "colab_type": "text"
      },
      "cell_type": "markdown",
      "source": [
        "# 終了～"
      ]
    },
    {
      "metadata": {
        "id": "vlIqWepvOqKQ",
        "colab_type": "code",
        "colab": {}
      },
      "cell_type": "code",
      "source": [
        ""
      ],
      "execution_count": 0,
      "outputs": []
    }
  ]
}