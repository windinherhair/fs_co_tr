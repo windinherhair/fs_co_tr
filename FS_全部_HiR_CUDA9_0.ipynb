{
  "nbformat": 4,
  "nbformat_minor": 0,
  "metadata": {
    "colab": {
      "name": "FS_全部_HiR_CUDA9.0.ipynb",
      "version": "0.3.2",
      "provenance": [],
      "collapsed_sections": [],
      "include_colab_link": true
    },
    "kernelspec": {
      "name": "python3",
      "display_name": "Python 3"
    },
    "accelerator": "GPU"
  },
  "cells": [
    {
      "cell_type": "markdown",
      "metadata": {
        "id": "view-in-github",
        "colab_type": "text"
      },
      "source": [
        "<a href=\"https://colab.research.google.com/github/windinherhair/fs_co_tr/blob/master/FS_%E5%85%A8%E9%83%A8_HiR_CUDA9_0.ipynb\" target=\"_parent\"><img src=\"https://colab.research.google.com/assets/colab-badge.svg\" alt=\"Open In Colab\"/></a>"
      ]
    },
    {
      "metadata": {
        "id": "atey8FJOUkGQ",
        "colab_type": "text"
      },
      "cell_type": "markdown",
      "source": [
        "# deepfakes/faceswap (Original_HighRes 全部やる用)"
      ]
    },
    {
      "metadata": {
        "id": "oL4AoCZC2qXB",
        "colab_type": "text"
      },
      "cell_type": "markdown",
      "source": [
        "## **（重要）colabの12時間&90分ルール対策**\n",
        "\n",
        "1.新しいインスタンスを起動してから12時間経つと全てリセットされる。（GoogleDriveに学習したmodelや抽出した顔を退避させます）\n",
        "\n",
        "2.90分アイドル状態が続くとノートの接続が外れるため、** Chromeのアドオンを使って60分置きにページをリロードする。（[Auto Refresh](https://chrome.google.com/webstore/detail/auto-refresh/ifooldnmmcmlbdennkpdnlnbgbmfalko)）**"
      ]
    },
    {
      "metadata": {
        "id": "i_RKRmvFAVvj",
        "colab_type": "text"
      },
      "cell_type": "markdown",
      "source": [
        "\n",
        "\n",
        "### 事前準備\n",
        "\n",
        "**1.[cuDNN](https://developer.nvidia.com/cudnn) 7.41 for CUDA 9.0 (cuDNN Library for Linux)をダウンロードし、GoogleDriveにアップしておく。要登録。バージョン間違える人多いので注意。**※windowsPCの場合拡張子がおかしくなるかも。拡張子をtgzに直してください。\n",
        "\n",
        "2.体側の人の2分くらいの動画（videoA.mp4）、洗練されたBの顔セット（alignB）フォルダを用意する。（なければなるべく同じ色調、角度の顔側の人の動画10分くらい（videoB.mp4）を用意する。）※()内の名前にリネームしてください。\n",
        "\n",
        "\n",
        "3.Google DriveにvideoA.mp4、alignBフォルダ、(なければvideoB.mp4）をアップロード\n",
        "\n",
        "\n",
        "\n",
        "4.(推奨)学習済みmodelがある場合は、modelフォルダをGoogleDriveにアップロード\n",
        "\n",
        "### その他\n",
        "コメントアウト（#）をコードの前につけるとコードを呼び飛ばします。先に自分の条件に合わせてつけたり外したりしてから実行してください。**デフォルトだとBの顔セットがある人向けになってます。**\n",
        "また、二回目からはDriveにalign(img)ができてるので、ffmpegとextractに(#)つけて、trainからやって下さい。\n",
        "\n",
        "faceswap環境が整うまで30分かかります。"
      ]
    },
    {
      "metadata": {
        "id": "elrU6XY1laHU",
        "colab_type": "text"
      },
      "cell_type": "markdown",
      "source": [
        "### **（設定）ランタイムのタイプをGPUに変更する** \n",
        "\n",
        "---\n",
        "\n"
      ]
    },
    {
      "metadata": {
        "id": "OdKuGEmG_mDC",
        "colab_type": "text"
      },
      "cell_type": "markdown",
      "source": [
        "準備が整ったら、\n",
        "\n",
        "**ランタイム→すべてのセルを実行**\n",
        "\n",
        "\n",
        "---\n",
        "\n",
        "\n",
        "\n"
      ]
    },
    {
      "metadata": {
        "id": "z_4TqAnik-RP",
        "colab_type": "code",
        "colab": {}
      },
      "cell_type": "code",
      "source": [
        "!cat /proc/uptime | awk '{print $1 /60 /60 /24 \"days (\" $1 \"sec)\"}'\n",
        "# インスタンスが作られてからの日数表示。0.5days=12時間まで使える。"
      ],
      "execution_count": 0,
      "outputs": []
    },
    {
      "metadata": {
        "id": "irz42YUGbNkr",
        "colab_type": "text"
      },
      "cell_type": "markdown",
      "source": [
        "**Google Driveをマウント**（※ここだけ要入力）\n",
        "\n",
        "\n",
        "###  URLをクリックし、そのまま進めたら出てくるコードをコピー、枠にペーストしEnter\n",
        "\n",
        "\n"
      ]
    },
    {
      "metadata": {
        "id": "ywrYDUWSaT0I",
        "colab_type": "code",
        "colab": {}
      },
      "cell_type": "code",
      "source": [
        "from google.colab import drive\n",
        "drive.mount('/content/drive')"
      ],
      "execution_count": 0,
      "outputs": []
    },
    {
      "metadata": {
        "id": "S_uAndHBbO1z",
        "colab_type": "text"
      },
      "cell_type": "markdown",
      "source": [
        " 元からインストールされているCUDA9.2を削除"
      ]
    },
    {
      "metadata": {
        "id": "bNnSqiF0Y2Qq",
        "colab_type": "code",
        "colab": {}
      },
      "cell_type": "code",
      "source": [
        "!rm -rf /usr/local/cuda*\n",
        "!apt-get purge nvidia*\n",
        "!apt-get autoremove\n",
        "!apt-get autoclean"
      ],
      "execution_count": 0,
      "outputs": []
    },
    {
      "metadata": {
        "id": "eCxAAbw7bRBG",
        "colab_type": "text"
      },
      "cell_type": "markdown",
      "source": [
        "CUDA9.0をインストール"
      ]
    },
    {
      "metadata": {
        "id": "__UV8d_9Zdma",
        "colab_type": "code",
        "colab": {}
      },
      "cell_type": "code",
      "source": [
        "!wget https://developer.nvidia.com/compute/cuda/9.0/Prod/local_installers/cuda-repo-ubuntu1604-9-0-local_9.0.176-1_amd64-deb -O cuda-repo-ubuntu1604-9-0-local_9.0.176-1_amd64.deb\n",
        "!dpkg -i cuda-repo-ubuntu1604-9-0-local_9.0.176-1_amd64.deb\n",
        "!apt-key add /var/cuda-repo-9-0-local/7fa2af80.pub\n",
        "!apt-get update\n",
        "!apt-get -o Dpkg::Options::=\"--force-overwrite\" install cuda-9-0 cuda-drivers"
      ],
      "execution_count": 0,
      "outputs": []
    },
    {
      "metadata": {
        "id": "09nNIjOGd4eB",
        "colab_type": "text"
      },
      "cell_type": "markdown",
      "source": [
        "Driveからcudnn7.4をコピペして展開"
      ]
    },
    {
      "metadata": {
        "id": "ZbesBlUwwVdz",
        "colab_type": "code",
        "colab": {}
      },
      "cell_type": "code",
      "source": [
        "!cp drive/'My Drive'/cudnn-9.0-linux-x64-v7.4.1.5.tgz ./"
      ],
      "execution_count": 0,
      "outputs": []
    },
    {
      "metadata": {
        "id": "p27JXVnawe2f",
        "colab_type": "code",
        "colab": {}
      },
      "cell_type": "code",
      "source": [
        "!tar -xf cudnn-9.0-linux-x64-v7.4.1.5.tgz"
      ],
      "execution_count": 0,
      "outputs": []
    },
    {
      "metadata": {
        "id": "bKVMd9QrwlxT",
        "colab_type": "code",
        "colab": {}
      },
      "cell_type": "code",
      "source": [
        "!cp -R cuda/include/* /usr/local/cuda-9.0/include"
      ],
      "execution_count": 0,
      "outputs": []
    },
    {
      "metadata": {
        "id": "12iZpHCrk-DQ",
        "colab_type": "code",
        "colab": {}
      },
      "cell_type": "code",
      "source": [
        "!cp -R cuda/lib64/* /usr/local/cuda-9.0/lib64"
      ],
      "execution_count": 0,
      "outputs": []
    },
    {
      "metadata": {
        "id": "Go9h7h49eOcL",
        "colab_type": "text"
      },
      "cell_type": "markdown",
      "source": [
        "CUDAのパスを通す。"
      ]
    },
    {
      "metadata": {
        "id": "amkW2DIUwh8d",
        "colab_type": "code",
        "colab": {}
      },
      "cell_type": "code",
      "source": [
        "!echo 'export PATH=/usr/local/cuda-9.0/bin${PATH:+:${PATH}}' >> ~/.bashrc\n",
        "!echo 'export LD_LIBRARY_PATH=/usr/local/cuda-9.0/lib64${LD_LIBRARY_PATH:+:${LD_LIBRARY_PATH}}' >> ~/.bashrc"
      ],
      "execution_count": 0,
      "outputs": []
    },
    {
      "metadata": {
        "id": "5b-WPaZfxFZ8",
        "colab_type": "code",
        "colab": {}
      },
      "cell_type": "code",
      "source": [
        "!source ~/.bashrc\n",
        "!ldconfig"
      ],
      "execution_count": 0,
      "outputs": []
    },
    {
      "metadata": {
        "id": "dAlacPYnnQZ_",
        "colab_type": "text"
      },
      "cell_type": "markdown",
      "source": [
        "dlibのインストール"
      ]
    },
    {
      "metadata": {
        "id": "iJRPVoOfpK0t",
        "colab_type": "code",
        "colab": {}
      },
      "cell_type": "code",
      "source": [
        "!apt update\n",
        "!apt install -y cmake\n",
        "#!git clone https://github.com/davisking/dlib.git\n",
        "#!python setup.py install --yes USE_AVX_INSTRUCTIONS --yes DLIB_USE_CUDA\n",
        "!apt install -y --no-install-recommends cmake && pip install dlib"
      ],
      "execution_count": 0,
      "outputs": []
    },
    {
      "metadata": {
        "id": "aD62zV2LENZj",
        "colab_type": "text"
      },
      "cell_type": "markdown",
      "source": [
        "TFをダウングレード"
      ]
    },
    {
      "metadata": {
        "id": "SjmKj2GLo_NB",
        "colab_type": "code",
        "colab": {}
      },
      "cell_type": "code",
      "source": [
        "!pip install tensorflow-gpu==1.11.0"
      ],
      "execution_count": 0,
      "outputs": []
    },
    {
      "metadata": {
        "id": "jbDXqoL3Hum8",
        "colab_type": "text"
      },
      "cell_type": "markdown",
      "source": [
        "ffmpegをインストール"
      ]
    },
    {
      "metadata": {
        "id": "jFShB1v_H-AL",
        "colab_type": "code",
        "colab": {}
      },
      "cell_type": "code",
      "source": [
        "!apt-get install -y ffmpeg"
      ],
      "execution_count": 0,
      "outputs": []
    },
    {
      "metadata": {
        "id": "6aYT4a5oEYxp",
        "colab_type": "text"
      },
      "cell_type": "markdown",
      "source": [
        "Githubのdeepfakes/faceswapをクローン"
      ]
    },
    {
      "metadata": {
        "id": "qnurbB4znrUD",
        "colab_type": "code",
        "colab": {}
      },
      "cell_type": "code",
      "source": [
        "!git clone https://github.com/deepfakes/faceswap.git"
      ],
      "execution_count": 0,
      "outputs": []
    },
    {
      "metadata": {
        "id": "DOGrdJO-EqpF",
        "colab_type": "text"
      },
      "cell_type": "markdown",
      "source": [
        "faceswapディレクトリに移動"
      ]
    },
    {
      "metadata": {
        "id": "hyrlx-B6n_Vg",
        "colab_type": "code",
        "colab": {}
      },
      "cell_type": "code",
      "source": [
        "cd faceswap"
      ],
      "execution_count": 0,
      "outputs": []
    },
    {
      "metadata": {
        "id": "UYk46P3AR0qE",
        "colab_type": "text"
      },
      "cell_type": "markdown",
      "source": [
        "残りの必要なものをインストール"
      ]
    },
    {
      "metadata": {
        "id": "qb5-vQJIoGg5",
        "colab_type": "code",
        "colab": {}
      },
      "cell_type": "code",
      "source": [
        "!pip install -r requirements.txt*"
      ],
      "execution_count": 0,
      "outputs": []
    },
    {
      "metadata": {
        "id": "o4lRGDIW0vWS",
        "colab_type": "text"
      },
      "cell_type": "markdown",
      "source": [
        "\n",
        "\n",
        "---\n",
        "\n",
        "\n",
        "\n",
        "\n",
        ">  ここでやっとFaceswap環境が整う。\n",
        "\n",
        "\n",
        "\n",
        "\n",
        "> ```\n",
        "!python faceswap.py -h\n",
        "```\n",
        "\n",
        "\n",
        "> でコマンドを見れるよ。\n",
        "\n",
        "\n",
        "---\n",
        "\n",
        "\n",
        "\n",
        "\n",
        "\n",
        "\n",
        "\n"
      ]
    },
    {
      "metadata": {
        "id": "KiNYHyr2-OT4",
        "colab_type": "code",
        "colab": {}
      },
      "cell_type": "code",
      "source": [
        "#!python faceswap.py -h"
      ],
      "execution_count": 0,
      "outputs": []
    },
    {
      "metadata": {
        "id": "a0Tt8ViwyfbI",
        "colab_type": "code",
        "colab": {}
      },
      "cell_type": "code",
      "source": [
        "!cat /proc/uptime | awk '{print $1 /60 /60 /24 \"days (\" $1 \"sec)\"}'\n",
        "# インスタンスが作られてからの日数表示。0.5days=12時間まで使える。"
      ],
      "execution_count": 0,
      "outputs": []
    },
    {
      "metadata": {
        "id": "UhcWYqUgc39D",
        "colab_type": "text"
      },
      "cell_type": "markdown",
      "source": [
        "## Aの顔セット準備"
      ]
    },
    {
      "metadata": {
        "id": "z6bIMt1lE_D8",
        "colab_type": "text"
      },
      "cell_type": "markdown",
      "source": [
        "素材をドライブからコピー"
      ]
    },
    {
      "metadata": {
        "id": "cM3F3FJstxlk",
        "colab_type": "code",
        "colab": {}
      },
      "cell_type": "code",
      "source": [
        "!cp /content/drive/'My Drive'/videoA.mp4 /content/faceswap/"
      ],
      "execution_count": 0,
      "outputs": []
    },
    {
      "metadata": {
        "id": "V-fF75ykLn2w",
        "colab_type": "text"
      },
      "cell_type": "markdown",
      "source": [
        "\n",
        "\n",
        "---\n",
        "\n",
        "\n",
        "ffmpegでvideoAを画像にする。(1秒あたり25フレーム)"
      ]
    },
    {
      "metadata": {
        "id": "vZuaWU_g7Guf",
        "colab_type": "code",
        "colab": {}
      },
      "cell_type": "code",
      "source": [
        "!mkdir /content/drive/'My Drive'/imgA  # 出力先ディレクトリを作成しておく"
      ],
      "execution_count": 0,
      "outputs": []
    },
    {
      "metadata": {
        "id": "FcxEZlnULfS9",
        "colab_type": "code",
        "colab": {}
      },
      "cell_type": "code",
      "source": [
        "\n",
        "!ffmpeg -i /content/faceswap/videoA.mp4 -vf fps=25 /content/drive/'My Drive'/imgA/imgA%06d.png"
      ],
      "execution_count": 0,
      "outputs": []
    },
    {
      "metadata": {
        "id": "uCeMbs5XHEh8",
        "colab_type": "text"
      },
      "cell_type": "markdown",
      "source": [
        "\n",
        "\n",
        "---\n",
        "\n",
        "\n",
        "**Extract_A**(mtcnn)\n"
      ]
    },
    {
      "metadata": {
        "id": "nO5YUAUNHQl0",
        "colab_type": "code",
        "colab": {}
      },
      "cell_type": "code",
      "source": [
        "!python faceswap.py extract -i /content/drive/'My Drive'/imgA/ -o /content/drive/'My Drive'/alignA/ -D mtcnn -A fan -mp"
      ],
      "execution_count": 0,
      "outputs": []
    },
    {
      "metadata": {
        "id": "Ifohb5MiQtBP",
        "colab_type": "text"
      },
      "cell_type": "markdown",
      "source": [
        "Alignments tool で複数検知したものを別のフォルダに"
      ]
    },
    {
      "metadata": {
        "id": "-v_W7lffVkmM",
        "colab_type": "code",
        "colab": {}
      },
      "cell_type": "code",
      "source": [
        "!python tools.py alignments -j multi-faces -a /content/drive/'My Drive'/imgA/alignments.json -o move -fc /content/drive/'My Drive'/alignA "
      ],
      "execution_count": 0,
      "outputs": []
    },
    {
      "metadata": {
        "id": "7GoOxz6RduIy",
        "colab_type": "text"
      },
      "cell_type": "markdown",
      "source": [
        "## →別のタブでGoogleDriveのalignA/multiple_faces_～フォルダを開いて手動で顔以外を消す"
      ]
    },
    {
      "metadata": {
        "id": "8wcRGNNreiO3",
        "colab_type": "code",
        "colab": {}
      },
      "cell_type": "code",
      "source": [
        "input() #実行一時停止用、顔の削除が終わったら枠の中でEnterを押して下さい！"
      ],
      "execution_count": 0,
      "outputs": []
    },
    {
      "metadata": {
        "id": "nx_R3ecff2RV",
        "colab_type": "code",
        "colab": {}
      },
      "cell_type": "code",
      "source": [
        "移した画像をalignAに戻す"
      ],
      "execution_count": 0,
      "outputs": []
    },
    {
      "metadata": {
        "id": "V4zT-ihvZfHa",
        "colab_type": "code",
        "colab": {}
      },
      "cell_type": "code",
      "source": [
        "mv /content/drive/'My Drive'/alignA/multiple_faces_in_frame_*?/0/* /content/drive/'My Drive'/alignA/multiple_faces_in_frame_*?/1/* /content/drive/'My Drive'/alignA "
      ],
      "execution_count": 0,
      "outputs": []
    },
    {
      "metadata": {
        "id": "u66qL1Z2gHZ_",
        "colab_type": "text"
      },
      "cell_type": "markdown",
      "source": [
        "## Bの顔セット準備 \n",
        "\n",
        "コメントアウト(#)外して使ってください"
      ]
    },
    {
      "metadata": {
        "id": "cOsj6efIA7n1",
        "colab_type": "code",
        "colab": {}
      },
      "cell_type": "code",
      "source": [
        "#cp /content/drive/'My Drive'/videoB.mp4 /content/faceswap/"
      ],
      "execution_count": 0,
      "outputs": []
    },
    {
      "metadata": {
        "id": "zUxfrga-YPr-",
        "colab_type": "text"
      },
      "cell_type": "markdown",
      "source": [
        "\n",
        "ffmpegでvideoBを画像にする。(1秒あたり5フレーム)\n",
        "\n"
      ]
    },
    {
      "metadata": {
        "id": "2Kin4hj87ClK",
        "colab_type": "code",
        "colab": {}
      },
      "cell_type": "code",
      "source": [
        "#!mkdir /content/faceswap/imgB  # 出力先ディレクトリを作成しておく"
      ],
      "execution_count": 0,
      "outputs": []
    },
    {
      "metadata": {
        "id": "U69fr1nbYmKu",
        "colab_type": "code",
        "colab": {}
      },
      "cell_type": "code",
      "source": [
        "\n",
        "#!ffmpeg -i /content/faceswap/videoB.mp4 -vf fps=5 /content/faceswap/imgB/imgB%06d.png"
      ],
      "execution_count": 0,
      "outputs": []
    },
    {
      "metadata": {
        "id": "NnUeTBhJcrHh",
        "colab_type": "text"
      },
      "cell_type": "markdown",
      "source": [
        "\n",
        "**Extract_B**(mtcnn)\n",
        "\n"
      ]
    },
    {
      "metadata": {
        "id": "BTSrORKgcAHp",
        "colab_type": "code",
        "colab": {}
      },
      "cell_type": "code",
      "source": [
        "#!python faceswap.py extract -i /content/faceswap/imgB/ -o /content/drive/'My Drive'/alignB/ -D mtcnn -A fan -mp"
      ],
      "execution_count": 0,
      "outputs": []
    },
    {
      "metadata": {
        "id": "cYS0jt6dn2yr",
        "colab_type": "text"
      },
      "cell_type": "markdown",
      "source": [
        "誤検知を消しやすいようにalignBを並びかえる。"
      ]
    },
    {
      "metadata": {
        "id": "c2LdKKfNIzST",
        "colab_type": "code",
        "colab": {}
      },
      "cell_type": "code",
      "source": [
        "\n",
        "#!python tools.py sort -i /content/drive/'My Drive'/alignB/ -fp rename -s hist"
      ],
      "execution_count": 0,
      "outputs": []
    },
    {
      "metadata": {
        "id": "6GLf47g8PRqT",
        "colab_type": "text"
      },
      "cell_type": "markdown",
      "source": [
        "\n",
        "\n",
        "## →別のタブでGoogleDriveのalignBフォルダを開いて手動で顔以外を消す\n",
        "\n",
        "\n",
        "\n",
        "---\n",
        "\n"
      ]
    },
    {
      "metadata": {
        "id": "cc3rAOfkhqVu",
        "colab_type": "text"
      },
      "cell_type": "markdown",
      "source": [
        "※便利な**tools**もあるよ"
      ]
    },
    {
      "metadata": {
        "id": "Sn_CeCTvhitR",
        "colab_type": "code",
        "colab": {}
      },
      "cell_type": "code",
      "source": [
        "#!python tools.py sort -h"
      ],
      "execution_count": 0,
      "outputs": []
    },
    {
      "metadata": {
        "id": "x6iGjDE1iBVd",
        "colab_type": "code",
        "colab": {}
      },
      "cell_type": "code",
      "source": [
        "#!python tools.py alignments -h"
      ],
      "execution_count": 0,
      "outputs": []
    },
    {
      "metadata": {
        "id": "RpEV2peX3M-b",
        "colab_type": "text"
      },
      "cell_type": "markdown",
      "source": [
        "\n",
        "\n",
        "---\n",
        "\n",
        "\n",
        "## (選択)**Train**(バッチ32で100回ごとに保存)※設定はお好みで\n",
        "\n",
        "プレビューが見れないので6時間くらいを目安にやってみてください。※事前学習済みmodelがある前提です。\n",
        "\n",
        "コメントアウト(#)外して使ってください"
      ]
    },
    {
      "metadata": {
        "id": "DD4MqG0aC4Y8",
        "colab_type": "code",
        "colab": {}
      },
      "cell_type": "code",
      "source": [
        "#!python faceswap.py train -A /content/drive/'My Drive'/alignB/ -B /content/drive/'My Drive'/alignB/ -m /content/drive/'My Drive'/model/ -s 100 -t OriginalHighRes -bs 32\n",
        "#BとBの事前学習"
      ],
      "execution_count": 0,
      "outputs": []
    },
    {
      "metadata": {
        "id": "DAqwdO-m8rDe",
        "colab_type": "code",
        "colab": {}
      },
      "cell_type": "code",
      "source": [
        "#!python faceswap.py train -A /content/drive/'My Drive'/alignA/ -B /content/drive/'My Drive'/alignB/ -m /content/drive/'My Drive'/model/ -s 100 -t OriginalHighRes -bs 32\n",
        "#AとBの通常学習"
      ],
      "execution_count": 0,
      "outputs": []
    },
    {
      "metadata": {
        "id": "ZRcaUkEKhYxk",
        "colab_type": "code",
        "colab": {}
      },
      "cell_type": "code",
      "source": [
        "#オプションはお好みで\n",
        "#python faceswap.py train -h"
      ],
      "execution_count": 0,
      "outputs": []
    },
    {
      "metadata": {
        "id": "d1SjdwtIjWlb",
        "colab_type": "text"
      },
      "cell_type": "markdown",
      "source": [
        "\n",
        "\n",
        "---\n",
        "\n",
        "\n",
        "**Convert**\n",
        "\n"
      ]
    },
    {
      "metadata": {
        "id": "RpbIQqIbghXU",
        "colab_type": "code",
        "colab": {}
      },
      "cell_type": "code",
      "source": [
        "#!python faceswap.py convert -i /content/drive/'My Drive'/imgA/ -o /mergeA -al /content/drive/'My Drive'/imgA/alignments.json -m /content/drive/'My Drive'/model/ -a /content/drive/'My Drive'/alignA/ -t OriginalHighRes -c Masked -e 20 -b 30 -M facehull -mh"
      ],
      "execution_count": 0,
      "outputs": []
    },
    {
      "metadata": {
        "id": "O1xqy7y0jkGk",
        "colab_type": "code",
        "colab": {}
      },
      "cell_type": "code",
      "source": [
        "#オプションはお好みで\n",
        "#!python faceswap.py convert -h"
      ],
      "execution_count": 0,
      "outputs": []
    },
    {
      "metadata": {
        "id": "7XyGpDW5l7xA",
        "colab_type": "text"
      },
      "cell_type": "markdown",
      "source": [
        "\n",
        "\n",
        "---\n",
        "\n",
        "ffmpegで画像から動画（merged_videoA.mp4）に変換"
      ]
    },
    {
      "metadata": {
        "id": "-ooOoEHjhEbp",
        "colab_type": "code",
        "colab": {}
      },
      "cell_type": "code",
      "source": [
        "#!ffmpeg -framerate 25 -i /mergeA/imgA%06d.png -vcodec libx264 -pix_fmt yuv420p -r 30 /content/drive/'My Drive'/merged_videoA.mp4"
      ],
      "execution_count": 0,
      "outputs": []
    },
    {
      "metadata": {
        "id": "SEwXZD88k2hu",
        "colab_type": "text"
      },
      "cell_type": "markdown",
      "source": [
        "# 終了～"
      ]
    }
  ]
}